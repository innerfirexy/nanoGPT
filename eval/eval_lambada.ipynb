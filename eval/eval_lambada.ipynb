{
 "cells": [
  {
   "cell_type": "code",
   "execution_count": null,
   "metadata": {
    "vscode": {
     "languageId": "bat"
    }
   },
   "outputs": [],
   "source": [
    "# Script\n",
    "\n",
    "lm_eval --model hf \\ \n",
    "    lm_eval --model hf \\--model_args pretrained=gpt2-medium \\\n",
    "    --task lambada_standard \\ \n",
    "    --device cuda:0 \\ \n",
    "    --batch_size 8"
   ]
  },
  {
   "cell_type": "markdown",
   "metadata": {},
   "source": [
    "hf (pretrained=gpt2), gen_kwargs: (None), limit: None, num_fewshot: None, batch_size: 8\n",
    "|     Tasks      |Version|Filter|n-shot|  Metric  |   | Value |   |Stderr|\n",
    "|----------------|------:|------|-----:|----------|---|------:|---|-----:|\n",
    "|lambada_standard|      1|none  |     0|acc       |↑  | 0.2597|±  |0.0061|\n",
    "|                |       |none  |     0|perplexity|↓  |93.7302|±  |3.8329|\n"
   ]
  },
  {
   "cell_type": "markdown",
   "metadata": {},
   "source": [
    "hf (pretrained=gpt2-medium), gen_kwargs: (None), limit: None, num_fewshot: None, batch_size: 8\n",
    "|     Tasks      |Version|Filter|n-shot|  Metric  |   | Value |   |Stderr|\n",
    "|----------------|------:|------|-----:|----------|---|------:|---|-----:|\n",
    "|lambada_standard|      1|none  |     0|acc       |↑  | 0.3769|±  |0.0068|\n",
    "|                |       |none  |     0|perplexity|↓  |29.6928|±  |1.0742|\n"
   ]
  },
  {
   "cell_type": "markdown",
   "metadata": {},
   "source": [
    "hf (pretrained=gpt2-large), gen_kwargs: (None), limit: None, num_fewshot: None, batch_size: 8\n",
    "|     Tasks      |Version|Filter|n-shot|  Metric  |   | Value |   |Stderr|\n",
    "|----------------|------:|------|-----:|----------|---|------:|---|-----:|\n",
    "|lambada_standard|      1|none  |     0|acc       |↑  | 0.4040|±  |0.0068|\n",
    "|                |       |none  |     0|perplexity|↓  |22.1789|±  |0.7740|\n"
   ]
  },
  {
   "cell_type": "markdown",
   "metadata": {},
   "source": [
    "hf (pretrained=gpt2-xl), gen_kwargs: (None), limit: None, num_fewshot: None, batch_size: 8\n",
    "|     Tasks      |Version|Filter|n-shot|  Metric  |   | Value |   |Stderr|\n",
    "|----------------|------:|------|-----:|----------|---|------:|---|-----:|\n",
    "|lambada_standard|      1|none  |     0|acc       |↑  | 0.4461|±  |0.0069|\n",
    "|                |       |none  |     0|perplexity|↓  |16.9945|±  |0.5839|\n"
   ]
  }
 ],
 "metadata": {
  "language_info": {
   "name": "python"
  }
 },
 "nbformat": 4,
 "nbformat_minor": 2
}
